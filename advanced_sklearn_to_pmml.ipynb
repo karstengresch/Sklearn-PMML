{
 "cells": [
  {
   "cell_type": "code",
   "execution_count": 39,
   "metadata": {},
   "outputs": [],
   "source": [
    "import pandas as pd\n",
    "import numpy as np\n",
    "from sklearn.preprocessing import StandardScaler, FunctionTransformer, Imputer\n",
    "from sklearn.linear_model import SGDClassifier\n",
    "from sklearn.pipeline import Pipeline, FeatureUnion, make_pipeline\n",
    "from sklearn2pmml import make_pmml_pipeline, sklearn2pmml, PMMLPipeline\n",
    "from sklearn_pandas import DataFrameMapper\n",
    "from sklearn.metrics import roc_auc_score\n",
    "from sklearn.externals import joblib\n",
    "from sklearn2pmml.decoration import ContinuousDomain\n",
    "from sklearn2pmml.preprocessing import ExpressionTransformer"
   ]
  },
  {
   "cell_type": "code",
   "execution_count": 8,
   "metadata": {},
   "outputs": [],
   "source": [
    "%run '../code/constants.py'\n",
    "%run '../code/feature_selection.py'"
   ]
  },
  {
   "cell_type": "code",
   "execution_count": 9,
   "metadata": {},
   "outputs": [],
   "source": [
    "df = pd.read_pickle(path + fin_mod_df)"
   ]
  },
  {
   "cell_type": "code",
   "execution_count": 10,
   "metadata": {},
   "outputs": [],
   "source": [
    "X, y = get_x_y(df)\n",
    "non_trans_vars = [col for col in X.columns if col not in trend_vars + to_logs]\n",
    "X = X[trend_vars + to_logs + non_trans_vars]"
   ]
  },
  {
   "cell_type": "code",
   "execution_count": 71,
   "metadata": {},
   "outputs": [],
   "source": [
    "featureU = FeatureUnion([\n",
    "    ('transformations', DataFrameMapper([\n",
    "        (trend_vars, ExpressionTransformer(\"X[:, 0] - X[:, 1]\"))\n",
    "        , (to_logs, make_pipeline(Imputer(strategy='median')\n",
    "           , FunctionTransformer(np.log1p)\n",
    "                                 ))\n",
    "        ])\n",
    "    )\n",
    " , ('identity', DataFrameMapper([(non_trans_vars, ContinuousDomain())]))\n",
    "])"
   ]
  },
  {
   "cell_type": "code",
   "execution_count": 93,
   "metadata": {},
   "outputs": [],
   "source": [
    "pl = PMMLPipeline([\n",
    "    ('featureUnion', featureU)\n",
    "    , ('impute', Imputer(strategy='median'))\n",
    "    , ('standardize', StandardScaler())\n",
    "#     , ('interactions', PolynomialFeatures(include_bias=False))\n",
    "#     , ('clf', SGDClassifier(alpha=0.008, l1_ratio=0.13, max_iter=450,loss='log'\n",
    "#                             ,penalty='elasticnet', n_iter=None, tol=None))# alpha = 0.8\n",
    "    , ('clf', LogisticRegression(penalty='l2', max_iter=500, C=0.8))\n",
    "])"
   ]
  },
  {
   "cell_type": "code",
   "execution_count": 94,
   "metadata": {},
   "outputs": [
    {
     "data": {
      "text/plain": [
       "PMMLPipeline(steps=[('featureUnion', FeatureUnion(n_jobs=1,\n",
       "       transformer_list=[('transformations', DataFrameMapper(default=False, df_out=False,\n",
       "        features=[(['pmml_variables.cbb_num_closures_one_year_ago', 'third_party.clarity_cbb.clear-bank-behavior.fis-chex-advisor.number-closures.three-years-ago'], ExpressionTransformer(expr='X[:, 0] - X[:, 1]')), ([...t='as_is', with_data=True,\n",
       "         with_statistics=True))],\n",
       "        input_df=False, sparse=False))],\n",
       "       transformer_weights=None)),\n",
       "       ('impute', Imputer(axis=0, copy=True, missing_values='NaN', strategy='median', verbose=0)),\n",
       "       ('standardize', StandardScaler(copy=True, with_mean=True, with_std=True)),\n",
       "       ('clf', LogisticRegression(C=0.8, class_weight=None, dual=False, fit_intercept=True,\n",
       "          intercept_scaling=1, max_iter=500, multi_class='ovr', n_jobs=1,\n",
       "          penalty='l2', random_state=None, solver='liblinear', tol=0.0001,\n",
       "          verbose=0, warm_start=False))])"
      ]
     },
     "execution_count": 94,
     "metadata": {},
     "output_type": "execute_result"
    }
   ],
   "source": [
    "pl.fit(X, y)"
   ]
  },
  {
   "cell_type": "code",
   "execution_count": 95,
   "metadata": {},
   "outputs": [
    {
     "name": "stdout",
     "output_type": "stream",
     "text": [
      "0.6236740052378797\n"
     ]
    }
   ],
   "source": [
    "print(proba_scorer(y, pl.predict_proba(X), roc_auc_score))"
   ]
  },
  {
   "cell_type": "code",
   "execution_count": 96,
   "metadata": {},
   "outputs": [
    {
     "data": {
      "text/plain": [
       "['../outputs/CBB_model_v2.pkl']"
      ]
     },
     "execution_count": 96,
     "metadata": {},
     "output_type": "execute_result"
    }
   ],
   "source": [
    "joblib.dump(pl, '../outputs/pmml_mod.pkl')"
   ]
  },
  {
   "cell_type": "code",
   "execution_count": 98,
   "metadata": {},
   "outputs": [],
   "source": [
    "sklearn2pmml(pl, '../outputs/pmml_file.pmml', with_repr=True)"
   ]
  },
  {
   "cell_type": "markdown",
   "metadata": {},
   "source": [
    "Done!"
   ]
  }
 ],
 "metadata": {
  "kernelspec": {
   "display_name": "Python 3",
   "language": "python",
   "name": "python3"
  },
  "language_info": {
   "codemirror_mode": {
    "name": "ipython",
    "version": 3
   },
   "file_extension": ".py",
   "mimetype": "text/x-python",
   "name": "python",
   "nbconvert_exporter": "python",
   "pygments_lexer": "ipython3",
   "version": "3.6.4"
  }
 },
 "nbformat": 4,
 "nbformat_minor": 2
}
